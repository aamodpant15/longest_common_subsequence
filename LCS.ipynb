{
 "cells": [
  {
   "cell_type": "code",
   "execution_count": 52,
   "metadata": {},
   "outputs": [],
   "source": [
    "def longest_subsequence(str1, str2 = True):\n",
    "    if str2 is True:\n",
    "        s2 = str1[::-1] #In case of Palindrome\n",
    "    else:\n",
    "        s2 = list(str2)\n",
    "        \n",
    "    s1 = list(str1)\n",
    "    mat = [[-1 for i in range(len(s2)+1)] for j in range(len(s1)+1)] \n",
    "    arr = [[-1 for i in range(len(s2)+1)] for j in range(len(s1)+1)] \n",
    "\n",
    "    for i in range(len(s1)+1):\n",
    "        for j in range(len(s2)+1):\n",
    "            if i == 0 or j == 0:\n",
    "                mat[i][j] = 0\n",
    "            elif i > 0 and j > 0 and s1[i-1] == s2[j-1]:\n",
    "                mat[i][j] = mat[i-1][j-1] + 1\n",
    "                arr[i][j] = 'tl'\n",
    "            elif i > 0 and j > 0 and s1[i-1] != s2[j-1]:\n",
    "                top = mat[i-1][j]\n",
    "                left = mat[i][j-1]\n",
    "                if top > left:\n",
    "                    arr[i][j] = 't'\n",
    "                    mat[i][j] = top\n",
    "                else:\n",
    "                    arr[i][j] = 'l'\n",
    "                    mat[i][j] = left\n",
    "                \n",
    "    lcs = []\n",
    "    m = len(s1)\n",
    "    n = len(s2)\n",
    "    while m >= 1 and n >= 1:\n",
    "            if s1[m-1] == s2[n-1]:\n",
    "                lcs.append(s1[m-1])\n",
    "            dir = arr[m][n]\n",
    "            if dir == 't':\n",
    "                m -= 1\n",
    "            elif dir == 'tl':\n",
    "                m -= 1\n",
    "                n -= 1\n",
    "            elif dir == 'l':\n",
    "                n -= 1\n",
    "            else:\n",
    "                break\n",
    "    lcs.reverse()\n",
    "    return ''.join(lcs)"
   ]
  },
  {
   "cell_type": "code",
   "execution_count": 57,
   "metadata": {},
   "outputs": [
    {
     "data": {
      "text/plain": [
       "'qpqprqrpqpq'"
      ]
     },
     "execution_count": 57,
     "metadata": {},
     "output_type": "execute_result"
    }
   ],
   "source": [
    "\"\"\"\n",
    "USAGE:\n",
    "First argument is always a string.\n",
    "Second argument is optional, it can either be \n",
    "    : another string, to get the LCS between the two,\n",
    "    : or empty, denoting that we want to find the Longest Palindrome\n",
    "      Sequence of the first argument\n",
    "\"\"\"\n",
    "longest_subsequence('pqpqrpsrpqrpqpq')"
   ]
  }
 ],
 "metadata": {
  "kernelspec": {
   "display_name": "Python 3",
   "language": "python",
   "name": "python3"
  },
  "language_info": {
   "codemirror_mode": {
    "name": "ipython",
    "version": 3
   },
   "file_extension": ".py",
   "mimetype": "text/x-python",
   "name": "python",
   "nbconvert_exporter": "python",
   "pygments_lexer": "ipython3",
   "version": "3.8.5"
  }
 },
 "nbformat": 4,
 "nbformat_minor": 4
}
